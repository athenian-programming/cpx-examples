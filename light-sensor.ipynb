{
 "cells": [
  {
   "cell_type": "markdown",
   "metadata": {},
   "source": [
    "# Light Sensor"
   ]
  },
  {
   "cell_type": "code",
   "execution_count": null,
   "metadata": {},
   "outputs": [],
   "source": [
    "# CircuitPlaygroundExpress_LightSensor\n",
    "# reads the on-board light sensor and graphs the brighness with NeoPixels\n",
    "\n",
    "import time\n",
    "\n",
    "import board\n",
    "import neopixel\n",
    "from analogio import AnalogIn\n",
    "from simpleio import map_range\n",
    "\n",
    "pixels = neopixel.NeoPixel(board.NEOPIXEL, 10, auto_write=0, brightness=.03)\n",
    "pixels.fill((0, 0, 0))\n",
    "pixels.show()\n",
    "\n",
    "analogin = AnalogIn(board.LIGHT)\n",
    "\n",
    "while True:\n",
    "    # light value remaped to pixel position\n",
    "    peak = map_range(analogin.value, 2000, 62000, 0, 9)\n",
    "    #print(analogin.value)\n",
    "    print(int(peak))\n",
    "\n",
    "    for i in range(0, 9, 1):\n",
    "        if i <= peak:\n",
    "            pixels[i] = (0, 255, 0)\n",
    "        else:\n",
    "            pixels[i] = (0, 0, 0)\n",
    "    pixels.show()\n",
    "\n",
    "    time.sleep(0.01)\n",
    "\n"
   ]
  },
  {
   "cell_type": "code",
   "execution_count": null,
   "metadata": {},
   "outputs": [],
   "source": []
  }
 ],
 "metadata": {
  "kernelspec": {
   "display_name": "CircuitPython",
   "language": "python",
   "name": "circuitpython"
  },
  "language_info": {
   "codemirror_mode": {
    "name": "python",
    "version": 3
   },
   "file_extension": ".py",
   "mimetype": "text/x-python",
   "name": "python",
   "pygments_lexer": "python3",
   "version": "3"
  }
 },
 "nbformat": 4,
 "nbformat_minor": 2
}
